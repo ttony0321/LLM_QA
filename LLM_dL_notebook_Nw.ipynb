{
  "metadata": {
    "kernelspec": {
      "language": "python",
      "display_name": "Python 3",
      "name": "python3"
    },
    "language_info": {
      "name": "python",
      "version": "3.10.13",
      "mimetype": "text/x-python",
      "codemirror_mode": {
        "name": "ipython",
        "version": 3
      },
      "pygments_lexer": "ipython3",
      "nbconvert_exporter": "python",
      "file_extension": ".py"
    },
    "kaggle": {
      "accelerator": "gpu",
      "dataSources": [
        {
          "sourceId": 7618922,
          "sourceType": "datasetVersion",
          "datasetId": 4437625
        },
        {
          "sourceId": 164521106,
          "sourceType": "kernelVersion"
        }
      ],
      "dockerImageVersionId": 30648,
      "isInternetEnabled": true,
      "language": "python",
      "sourceType": "notebook",
      "isGpuEnabled": true
    },
    "colab": {
      "name": "LLM_dL_notebook",
      "provenance": []
    }
  },
  "nbformat_minor": 0,
  "nbformat": 4,
  "cells": [
    {
      "source": [
        "\n",
        "# IMPORTANT: RUN THIS CELL IN ORDER TO IMPORT YOUR KAGGLE DATA SOURCES\n",
        "# TO THE CORRECT LOCATION (/kaggle/input) IN YOUR NOTEBOOK,\n",
        "# THEN FEEL FREE TO DELETE THIS CELL.\n",
        "# NOTE: THIS NOTEBOOK ENVIRONMENT DIFFERS FROM KAGGLE'S PYTHON\n",
        "# ENVIRONMENT SO THERE MAY BE MISSING LIBRARIES USED BY YOUR\n",
        "# NOTEBOOK.\n",
        "\n",
        "import os\n",
        "import sys\n",
        "from tempfile import NamedTemporaryFile\n",
        "from urllib.request import urlopen\n",
        "from urllib.parse import unquote, urlparse\n",
        "from urllib.error import HTTPError\n",
        "from zipfile import ZipFile\n",
        "import tarfile\n",
        "import shutil\n",
        "\n",
        "CHUNK_SIZE = 40960\n",
        "DATA_SOURCE_MAPPING = 'llm-datasets:https%3A%2F%2Fstorage.googleapis.com%2Fkaggle-data-sets%2F4437625%2F7618922%2Fbundle%2Farchive.zip%3FX-Goog-Algorithm%3DGOOG4-RSA-SHA256%26X-Goog-Credential%3Dgcp-kaggle-com%2540kaggle-161607.iam.gserviceaccount.com%252F20240227%252Fauto%252Fstorage%252Fgoog4_request%26X-Goog-Date%3D20240227T105040Z%26X-Goog-Expires%3D259200%26X-Goog-SignedHeaders%3Dhost%26X-Goog-Signature%3D1ed0da548fce62169954bf5c8215a7d6da1fbfa209d9b399c57c07c6a848e1854f4a1e21aed9c811faa108718b9ce215f1dfce761f6138331cbe9b0c6684b1379a27ed9db69e5bebacfde252b79fa7bb8d5daafe3020e72d2e1d747a1cdde6a6708e15a28b6ea5cf1815b9837fa70ba94dbf573df01553e100964af783a4bf1931db201821146ad3cc9094f1f72c961868b865c209a93ffed24fed99c341128b685aef7f8905214700a6d52fd4d1d15a7cfe4077fd268dcabe0d0cf2a9f801b37c20c969b939c6a95e6dc9cc20892d3bb973a950dee579d102ee7ab6e20e345f6c594f898f4aaa5c3235963f2eaa443fa5b931d297f8cd4a7f9f00e2fe46d1df,llm-model:https%3A%2F%2Fstorage.googleapis.com%2Fkaggle-data-sets%2F4503294%2F7711889%2Fbundle%2Farchive.zip%3FX-Goog-Algorithm%3DGOOG4-RSA-SHA256%26X-Goog-Credential%3Dgcp-kaggle-com%2540kaggle-161607.iam.gserviceaccount.com%252F20240227%252Fauto%252Fstorage%252Fgoog4_request%26X-Goog-Date%3D20240227T105040Z%26X-Goog-Expires%3D259200%26X-Goog-SignedHeaders%3Dhost%26X-Goog-Signature%3D88708aa3c6d8373d575c9c91ea4bf4f7a274ef82b2b40087a91142d555890a07c4e3f53255e96755669372df171085b1aa36659ea6a98c8798d9ff4b033cd20fe3fcd07656c177b875fd8272bfb1836942d617431f44c187a5d240e9b69a44f89625fa81d232d754efad52c16cf87dad82f9814d9a934a6e94a12d6c5d7806264b85cc0d3d416cbb9344a3e0f3abf3e2d1e8a8d13e97a97e893c7a875ddf7f6025fe613f97bd85906667021b7ce353a052daa39a2034d9886ff68088f26ffc455a94988a071ac9d38a4fa61acc8b708681c89ff33762e4a1a5419e34d60c6689a15ddb9282509c680321b476d134cf229dbd867e509afae35715256ace5e6391'\n",
        "\n",
        "KAGGLE_INPUT_PATH='/kaggle/input'\n",
        "KAGGLE_WORKING_PATH='/kaggle/working'\n",
        "KAGGLE_SYMLINK='kaggle'\n",
        "\n",
        "!umount /kaggle/input/ 2> /dev/null\n",
        "shutil.rmtree('/kaggle/input', ignore_errors=True)\n",
        "os.makedirs(KAGGLE_INPUT_PATH, 0o777, exist_ok=True)\n",
        "os.makedirs(KAGGLE_WORKING_PATH, 0o777, exist_ok=True)\n",
        "\n",
        "try:\n",
        "  os.symlink(KAGGLE_INPUT_PATH, os.path.join(\"..\", 'input'), target_is_directory=True)\n",
        "except FileExistsError:\n",
        "  pass\n",
        "try:\n",
        "  os.symlink(KAGGLE_WORKING_PATH, os.path.join(\"..\", 'working'), target_is_directory=True)\n",
        "except FileExistsError:\n",
        "  pass\n",
        "\n",
        "for data_source_mapping in DATA_SOURCE_MAPPING.split(','):\n",
        "    directory, download_url_encoded = data_source_mapping.split(':')\n",
        "    download_url = unquote(download_url_encoded)\n",
        "    filename = urlparse(download_url).path\n",
        "    destination_path = os.path.join(KAGGLE_INPUT_PATH, directory)\n",
        "    try:\n",
        "        with urlopen(download_url) as fileres, NamedTemporaryFile() as tfile:\n",
        "            total_length = fileres.headers['content-length']\n",
        "            print(f'Downloading {directory}, {total_length} bytes compressed')\n",
        "            dl = 0\n",
        "            data = fileres.read(CHUNK_SIZE)\n",
        "            while len(data) > 0:\n",
        "                dl += len(data)\n",
        "                tfile.write(data)\n",
        "                done = int(50 * dl / int(total_length))\n",
        "                sys.stdout.write(f\"\\r[{'=' * done}{' ' * (50-done)}] {dl} bytes downloaded\")\n",
        "                sys.stdout.flush()\n",
        "                data = fileres.read(CHUNK_SIZE)\n",
        "            if filename.endswith('.zip'):\n",
        "              with ZipFile(tfile) as zfile:\n",
        "                zfile.extractall(destination_path)\n",
        "            else:\n",
        "              with tarfile.open(tfile.name) as tarfile:\n",
        "                tarfile.extractall(destination_path)\n",
        "            print(f'\\nDownloaded and uncompressed: {directory}')\n",
        "    except HTTPError as e:\n",
        "        print(f'Failed to load (likely expired) {download_url} to path {destination_path}')\n",
        "        continue\n",
        "    except OSError as e:\n",
        "        print(f'Failed to load {download_url} to path {destination_path}')\n",
        "        continue\n",
        "\n",
        "print('Data source import complete.')\n"
      ],
      "metadata": {
        "id": "KQi65AQuMCJQ"
      },
      "cell_type": "code",
      "outputs": [],
      "execution_count": null
    },
    {
      "cell_type": "code",
      "source": [
        "# This Python 3 environment comes with many helpful analytics libraries installed\n",
        "# It is defined by the kaggle/python Docker image: https://github.com/kaggle/docker-python\n",
        "# For example, here's several helpful packages to load\n",
        "\n",
        "import numpy as np # linear algebra\n",
        "import pandas as pd # data processing, CSV file I/O (e.g. pd.read_csv)\n",
        "\n",
        "# Input data files are available in the read-only \"../input/\" directory\n",
        "# For example, running this (by clicking run or pressing Shift+Enter) will list all files under the input directory\n",
        "\n",
        "import os\n",
        "for dirname, _, filenames in os.walk('/kaggle/input'):\n",
        "    for filename in filenames:\n",
        "        print(os.path.join(dirname, filename))\n",
        "\n",
        "# You can write up to 20GB to the current directory (/kaggle/working/) that gets preserved as output when you create a version using \"Save & Run All\"\n",
        "# You can also write temporary files to /kaggle/temp/, but they won't be saved outside of the current session"
      ],
      "metadata": {
        "_uuid": "8f2839f25d086af736a60e9eeb907d3b93b6e0e5",
        "_cell_guid": "b1076dfc-b9ad-4769-8c92-a6c4dae69d19",
        "execution": {
          "iopub.status.busy": "2024-02-27T08:51:52.140625Z",
          "iopub.execute_input": "2024-02-27T08:51:52.140977Z",
          "iopub.status.idle": "2024-02-27T08:51:53.0401Z",
          "shell.execute_reply.started": "2024-02-27T08:51:52.140949Z",
          "shell.execute_reply": "2024-02-27T08:51:53.039044Z"
        },
        "trusted": true,
        "id": "dRMSS5a0MCJT",
        "outputId": "12e8e083-0759-43a1-893f-263ff6d51b9d"
      },
      "execution_count": null,
      "outputs": [
        {
          "name": "stdout",
          "text": "/kaggle/input/llm-datasets/sample_submission.csv\n/kaggle/input/llm-datasets/train.csv\n/kaggle/input/llm-datasets/test.csv\n",
          "output_type": "stream"
        }
      ]
    },
    {
      "cell_type": "code",
      "source": [
        "!pip install gdown\n",
        "!pip install kaggle --upgrade\n",
        "!pip install wandb\n",
        "# !pip install peft\n",
        "# !pip install bitsandbytes\n",
        "# !pip install transformers accelerate bitsandbytes\n",
        "#!pip install git+https://github.com/zhanghang1989/PyTorch-Encoding/"
      ],
      "metadata": {
        "execution": {
          "iopub.status.busy": "2024-02-27T08:51:53.042178Z",
          "iopub.execute_input": "2024-02-27T08:51:53.043019Z",
          "iopub.status.idle": "2024-02-27T08:52:33.293633Z",
          "shell.execute_reply.started": "2024-02-27T08:51:53.042983Z",
          "shell.execute_reply": "2024-02-27T08:52:33.292699Z"
        },
        "trusted": true,
        "id": "JEk3iJ13MCJU",
        "outputId": "e127b302-472d-4e3a-a6e8-cae4d4c739c7"
      },
      "execution_count": null,
      "outputs": [
        {
          "name": "stdout",
          "text": "Collecting gdown\n  Downloading gdown-5.1.0-py3-none-any.whl.metadata (5.7 kB)\nRequirement already satisfied: beautifulsoup4 in /opt/conda/lib/python3.10/site-packages (from gdown) (4.12.2)\nRequirement already satisfied: filelock in /opt/conda/lib/python3.10/site-packages (from gdown) (3.13.1)\nRequirement already satisfied: requests[socks] in /opt/conda/lib/python3.10/site-packages (from gdown) (2.31.0)\nRequirement already satisfied: tqdm in /opt/conda/lib/python3.10/site-packages (from gdown) (4.66.1)\nRequirement already satisfied: soupsieve>1.2 in /opt/conda/lib/python3.10/site-packages (from beautifulsoup4->gdown) (2.5)\nRequirement already satisfied: charset-normalizer<4,>=2 in /opt/conda/lib/python3.10/site-packages (from requests[socks]->gdown) (3.3.2)\nRequirement already satisfied: idna<4,>=2.5 in /opt/conda/lib/python3.10/site-packages (from requests[socks]->gdown) (3.6)\nRequirement already satisfied: urllib3<3,>=1.21.1 in /opt/conda/lib/python3.10/site-packages (from requests[socks]->gdown) (1.26.18)\nRequirement already satisfied: certifi>=2017.4.17 in /opt/conda/lib/python3.10/site-packages (from requests[socks]->gdown) (2023.11.17)\nRequirement already satisfied: PySocks!=1.5.7,>=1.5.6 in /opt/conda/lib/python3.10/site-packages (from requests[socks]->gdown) (1.7.1)\nDownloading gdown-5.1.0-py3-none-any.whl (17 kB)\nInstalling collected packages: gdown\nSuccessfully installed gdown-5.1.0\nRequirement already satisfied: kaggle in /opt/conda/lib/python3.10/site-packages (1.6.3)\nCollecting kaggle\n  Downloading kaggle-1.6.6.tar.gz (84 kB)\n\u001b[2K     \u001b[90m━━━━━━━━━━━━━━━━━━━━━━━━━━━━━━━━━━━━━━━━\u001b[0m \u001b[32m84.6/84.6 kB\u001b[0m \u001b[31m4.3 MB/s\u001b[0m eta \u001b[36m0:00:00\u001b[0m\n\u001b[?25h  Preparing metadata (setup.py) ... \u001b[?25ldone\n\u001b[?25hRequirement already satisfied: six>=1.10 in /opt/conda/lib/python3.10/site-packages (from kaggle) (1.16.0)\nRequirement already satisfied: certifi in /opt/conda/lib/python3.10/site-packages (from kaggle) (2023.11.17)\nRequirement already satisfied: python-dateutil in /opt/conda/lib/python3.10/site-packages (from kaggle) (2.8.2)\nRequirement already satisfied: requests in /opt/conda/lib/python3.10/site-packages (from kaggle) (2.31.0)\nRequirement already satisfied: tqdm in /opt/conda/lib/python3.10/site-packages (from kaggle) (4.66.1)\nRequirement already satisfied: python-slugify in /opt/conda/lib/python3.10/site-packages (from kaggle) (8.0.1)\nRequirement already satisfied: urllib3 in /opt/conda/lib/python3.10/site-packages (from kaggle) (1.26.18)\nRequirement already satisfied: bleach in /opt/conda/lib/python3.10/site-packages (from kaggle) (6.1.0)\nRequirement already satisfied: webencodings in /opt/conda/lib/python3.10/site-packages (from bleach->kaggle) (0.5.1)\nRequirement already satisfied: text-unidecode>=1.3 in /opt/conda/lib/python3.10/site-packages (from python-slugify->kaggle) (1.3)\nRequirement already satisfied: charset-normalizer<4,>=2 in /opt/conda/lib/python3.10/site-packages (from requests->kaggle) (3.3.2)\nRequirement already satisfied: idna<4,>=2.5 in /opt/conda/lib/python3.10/site-packages (from requests->kaggle) (3.6)\nBuilding wheels for collected packages: kaggle\n  Building wheel for kaggle (setup.py) ... \u001b[?25ldone\n\u001b[?25h  Created wheel for kaggle: filename=kaggle-1.6.6-py3-none-any.whl size=111943 sha256=87cb51c1f06b8add5ce3955093a82c7b4948c4b80416e4cc87956e61d408e8bd\n  Stored in directory: /root/.cache/pip/wheels/53/34/8c/8ca3450d17206d9e37e1ee3aeb47cbb2873d22a9e0c60eb137\nSuccessfully built kaggle\nInstalling collected packages: kaggle\n  Attempting uninstall: kaggle\n    Found existing installation: kaggle 1.6.3\n    Uninstalling kaggle-1.6.3:\n      Successfully uninstalled kaggle-1.6.3\nSuccessfully installed kaggle-1.6.6\nRequirement already satisfied: wandb in /opt/conda/lib/python3.10/site-packages (0.16.2)\nRequirement already satisfied: Click!=8.0.0,>=7.1 in /opt/conda/lib/python3.10/site-packages (from wandb) (8.1.7)\nRequirement already satisfied: GitPython!=3.1.29,>=1.0.0 in /opt/conda/lib/python3.10/site-packages (from wandb) (3.1.41)\nRequirement already satisfied: requests<3,>=2.0.0 in /opt/conda/lib/python3.10/site-packages (from wandb) (2.31.0)\nRequirement already satisfied: psutil>=5.0.0 in /opt/conda/lib/python3.10/site-packages (from wandb) (5.9.3)\nRequirement already satisfied: sentry-sdk>=1.0.0 in /opt/conda/lib/python3.10/site-packages (from wandb) (1.39.2)\nRequirement already satisfied: docker-pycreds>=0.4.0 in /opt/conda/lib/python3.10/site-packages (from wandb) (0.4.0)\nRequirement already satisfied: PyYAML in /opt/conda/lib/python3.10/site-packages (from wandb) (6.0.1)\nRequirement already satisfied: setproctitle in /opt/conda/lib/python3.10/site-packages (from wandb) (1.3.3)\nRequirement already satisfied: setuptools in /opt/conda/lib/python3.10/site-packages (from wandb) (69.0.3)\nRequirement already satisfied: appdirs>=1.4.3 in /opt/conda/lib/python3.10/site-packages (from wandb) (1.4.4)\nRequirement already satisfied: protobuf!=4.21.0,<5,>=3.19.0 in /opt/conda/lib/python3.10/site-packages (from wandb) (3.20.3)\nRequirement already satisfied: six>=1.4.0 in /opt/conda/lib/python3.10/site-packages (from docker-pycreds>=0.4.0->wandb) (1.16.0)\nRequirement already satisfied: gitdb<5,>=4.0.1 in /opt/conda/lib/python3.10/site-packages (from GitPython!=3.1.29,>=1.0.0->wandb) (4.0.11)\nRequirement already satisfied: charset-normalizer<4,>=2 in /opt/conda/lib/python3.10/site-packages (from requests<3,>=2.0.0->wandb) (3.3.2)\nRequirement already satisfied: idna<4,>=2.5 in /opt/conda/lib/python3.10/site-packages (from requests<3,>=2.0.0->wandb) (3.6)\nRequirement already satisfied: urllib3<3,>=1.21.1 in /opt/conda/lib/python3.10/site-packages (from requests<3,>=2.0.0->wandb) (1.26.18)\nRequirement already satisfied: certifi>=2017.4.17 in /opt/conda/lib/python3.10/site-packages (from requests<3,>=2.0.0->wandb) (2023.11.17)\nRequirement already satisfied: smmap<6,>=3.0.1 in /opt/conda/lib/python3.10/site-packages (from gitdb<5,>=4.0.1->GitPython!=3.1.29,>=1.0.0->wandb) (5.0.1)\n",
          "output_type": "stream"
        }
      ]
    },
    {
      "cell_type": "code",
      "source": [
        "import gdown\n",
        "import matplotlib.pyplot as plt\n",
        "import pandas as pd\n",
        "import numpy as np\n",
        "import lightgbm as lgb\n",
        "import bisect\n",
        "import torch\n",
        "import torch.nn as nn\n",
        "import re\n",
        "import nltk\n",
        "import torch\n",
        "import transformers\n",
        "#import bitsandbytes as bnb\n",
        "from transformers import PreTrainedTokenizerFast, AdamW, AutoModelForCausalLM, BitsAndBytesConfig, AutoModel\n",
        "#from peft import prepare_model_for_kbit_training, LoraConfig, get_peft_model\n",
        "from tqdm import tqdm\n",
        "from transformers import BertTokenizerFast, GPT2LMHeadModel\n",
        "from transformers import ElectraModel, ElectraTokenizer\n",
        "#from parallel import DataParallelModel, DataParallelCriterion\n",
        "from transformers import AutoTokenizer, AutoModelForCausalLM\n",
        "from nltk.corpus import stopwords\n",
        "from transformers import GPT2LMHeadModel, PreTrainedTokenizerFast, AdamW\n",
        "device = torch.device(\"cuda\" if torch.cuda.is_available() else \"cpu\")\n",
        "!git clone https://github.com/ttony0321/stopwords.txt.git\n",
        "#os.environ['WANDB_DISABLED'] = \"false\""
      ],
      "metadata": {
        "execution": {
          "iopub.status.busy": "2024-02-27T08:52:33.294969Z",
          "iopub.execute_input": "2024-02-27T08:52:33.295238Z",
          "iopub.status.idle": "2024-02-27T08:52:45.987506Z",
          "shell.execute_reply.started": "2024-02-27T08:52:33.295213Z",
          "shell.execute_reply": "2024-02-27T08:52:45.986296Z"
        },
        "trusted": true,
        "id": "Ts1-6dDeMCJU",
        "outputId": "e4b940db-efa8-496b-d96f-15dc897d4ebf"
      },
      "execution_count": null,
      "outputs": [
        {
          "name": "stderr",
          "text": "/opt/conda/lib/python3.10/site-packages/dask/dataframe/_pyarrow_compat.py:23: UserWarning: You are using pyarrow version 11.0.0 which is known to be insecure. See https://www.cve.org/CVERecord?id=CVE-2023-47248 for further details. Please upgrade to pyarrow>=14.0.1 or install pyarrow-hotfix to patch your current version.\n  warnings.warn(\n",
          "output_type": "stream"
        },
        {
          "name": "stdout",
          "text": "Cloning into 'stopwords.txt'...\nremote: Enumerating objects: 6, done.\u001b[K\nremote: Counting objects: 100% (6/6), done.\u001b[K\nremote: Compressing objects: 100% (4/4), done.\u001b[K\nremote: Total 6 (delta 0), reused 0 (delta 0), pack-reused 0\u001b[K\nUnpacking objects: 100% (6/6), 4.29 KiB | 4.29 MiB/s, done.\n",
          "output_type": "stream"
        }
      ]
    },
    {
      "cell_type": "code",
      "source": [
        "#https://drive.google.com/file/d/1ySDZrZlDfkxdGOt_h4zofIHJNhkUq5oB/view?usp=sharing\n",
        "#!gdown 1ySDZrZlDfkxdGOt_h4zofIHJNhkUq5oB\n",
        "#if gdown doesn't work\n",
        "#!unzip /kaggle/working/open.zip"
      ],
      "metadata": {
        "execution": {
          "iopub.status.busy": "2024-02-27T08:52:45.99044Z",
          "iopub.execute_input": "2024-02-27T08:52:45.991569Z",
          "iopub.status.idle": "2024-02-27T08:52:45.996935Z",
          "shell.execute_reply.started": "2024-02-27T08:52:45.99154Z",
          "shell.execute_reply": "2024-02-27T08:52:45.995931Z"
        },
        "trusted": true,
        "id": "X73335uTMCJU"
      },
      "execution_count": null,
      "outputs": []
    },
    {
      "cell_type": "code",
      "source": [
        "!nvidia-smi"
      ],
      "metadata": {
        "execution": {
          "iopub.status.busy": "2024-02-27T08:52:45.998198Z",
          "iopub.execute_input": "2024-02-27T08:52:45.998504Z",
          "iopub.status.idle": "2024-02-27T08:52:47.011776Z",
          "shell.execute_reply.started": "2024-02-27T08:52:45.998479Z",
          "shell.execute_reply": "2024-02-27T08:52:47.010772Z"
        },
        "trusted": true,
        "id": "eJuSOsWEMCJU",
        "outputId": "ac803de4-d8b2-440c-cd95-3ea8e8f9681b"
      },
      "execution_count": null,
      "outputs": [
        {
          "name": "stdout",
          "text": "Tue Feb 27 08:52:46 2024       \n+---------------------------------------------------------------------------------------+\n| NVIDIA-SMI 535.129.03             Driver Version: 535.129.03   CUDA Version: 12.2     |\n|-----------------------------------------+----------------------+----------------------+\n| GPU  Name                 Persistence-M | Bus-Id        Disp.A | Volatile Uncorr. ECC |\n| Fan  Temp   Perf          Pwr:Usage/Cap |         Memory-Usage | GPU-Util  Compute M. |\n|                                         |                      |               MIG M. |\n|=========================================+======================+======================|\n|   0  Tesla P100-PCIE-16GB           Off | 00000000:00:04.0 Off |                    0 |\n| N/A   34C    P0              25W / 250W |      2MiB / 16384MiB |      0%      Default |\n|                                         |                      |                  N/A |\n+-----------------------------------------+----------------------+----------------------+\n                                                                                         \n+---------------------------------------------------------------------------------------+\n| Processes:                                                                            |\n|  GPU   GI   CI        PID   Type   Process name                            GPU Memory |\n|        ID   ID                                                             Usage      |\n|=======================================================================================|\n|  No running processes found                                                           |\n+---------------------------------------------------------------------------------------+\n",
          "output_type": "stream"
        }
      ]
    },
    {
      "cell_type": "code",
      "source": [
        "os.environ[\"CUDA_DEVICE_ORDER\"]=\"PCI_BUS_ID\"  # Arrange GPU devices starting from 0\n",
        "os.environ[\"CUDA_VISIBLE_DEVICES\"]= \"0,1\"  # Set the GPU 2 to use"
      ],
      "metadata": {
        "execution": {
          "iopub.status.busy": "2024-02-27T08:52:47.013205Z",
          "iopub.execute_input": "2024-02-27T08:52:47.0135Z",
          "iopub.status.idle": "2024-02-27T08:52:47.018833Z",
          "shell.execute_reply.started": "2024-02-27T08:52:47.013473Z",
          "shell.execute_reply": "2024-02-27T08:52:47.017828Z"
        },
        "trusted": true,
        "id": "1-7nSsu_MCJV"
      },
      "execution_count": null,
      "outputs": []
    },
    {
      "cell_type": "code",
      "source": [
        "device = torch.device(\"cuda\" if torch.cuda.is_available() else \"cpu\")\n",
        "\n",
        "print('Device:', device)\n",
        "print('Current cuda device:', torch.cuda.current_device())\n",
        "print('Count of using GPUs:', torch.cuda.device_count())"
      ],
      "metadata": {
        "execution": {
          "iopub.status.busy": "2024-02-27T08:52:47.020048Z",
          "iopub.execute_input": "2024-02-27T08:52:47.020335Z",
          "iopub.status.idle": "2024-02-27T08:52:47.033268Z",
          "shell.execute_reply.started": "2024-02-27T08:52:47.020311Z",
          "shell.execute_reply": "2024-02-27T08:52:47.032289Z"
        },
        "trusted": true,
        "id": "CLPJegTeMCJV",
        "outputId": "ec6b725b-8fe9-48af-bc1d-b7756d505159"
      },
      "execution_count": null,
      "outputs": [
        {
          "name": "stdout",
          "text": "Device: cuda\nCurrent cuda device: 0\nCount of using GPUs: 1\n",
          "output_type": "stream"
        }
      ]
    },
    {
      "cell_type": "code",
      "source": [
        "# train = pd.read_csv('/kaggle/working/train.csv')\n",
        "# test = pd.read_csv('/kaggle/working/train.csv')\n",
        "#if not gdown\n",
        "train = pd.read_csv('/kaggle/input/llm-datasets/train.csv')\n",
        "test = pd.read_csv('/kaggle/input/llm-datasets/test.csv')"
      ],
      "metadata": {
        "execution": {
          "iopub.status.busy": "2024-02-27T08:52:47.034524Z",
          "iopub.execute_input": "2024-02-27T08:52:47.034811Z",
          "iopub.status.idle": "2024-02-27T08:52:47.113807Z",
          "shell.execute_reply.started": "2024-02-27T08:52:47.03478Z",
          "shell.execute_reply": "2024-02-27T08:52:47.113091Z"
        },
        "trusted": true,
        "id": "bCZ-DCerMCJV"
      },
      "execution_count": null,
      "outputs": []
    },
    {
      "cell_type": "code",
      "source": [
        "train.head()"
      ],
      "metadata": {
        "execution": {
          "iopub.status.busy": "2024-02-27T08:52:47.115053Z",
          "iopub.execute_input": "2024-02-27T08:52:47.115491Z",
          "iopub.status.idle": "2024-02-27T08:52:47.137431Z",
          "shell.execute_reply.started": "2024-02-27T08:52:47.115454Z",
          "shell.execute_reply": "2024-02-27T08:52:47.136566Z"
        },
        "trusted": true,
        "id": "1ZHqZ_x_MCJV",
        "outputId": "cefbe871-065f-499e-9bdc-e3042d3ec655"
      },
      "execution_count": null,
      "outputs": [
        {
          "execution_count": 9,
          "output_type": "execute_result",
          "data": {
            "text/plain": "          id               질문_1                               질문_2 category  \\\n0  TRAIN_000          면진장치가 뭐야?           면진장치에 사용되는 주요 기술은 무엇인가요?     건축구조   \n1  TRAIN_001     내진설계의 종류 좀 알려줘  내진설계에는 어떤 종류가 있는지 자세히 알려주실 수 있나요?     건축구조   \n2  TRAIN_002      철골구조의 장점이 뭐야?                     철골구조의 장점을 알려줘?     건축구조   \n3  TRAIN_003  철골철근 콘크리트 구조가 뭐야?   철골철근 콘크리트 구조의 장점과 단점에는 무엇이 있을까요?     건축구조   \n4  TRAIN_004   철골구조는 어떤 방식이 있어?               철골구조의 다양한 방식이 무엇인가요?     건축구조   \n\n                                                답변_1  \\\n0  면진장치란 지반에서 오는 진동 에너지를 흡수하여 건물에 주는 진동을 줄여주는 진동 ...   \n1                 내진 설계의 종류로 내진구조, 제진구조, 면진구조가 있습니다.   \n2  철골구조는 건물의 외벽에는 그다지 하중이 걸리지 않기 때문에 고층 건물의 건축이 가...   \n3  철근철골콘크리트는 철골과 철근, 그리고 콘크리트를 함께 사용하는 건축 구조입니다. ...   \n4                        철골구조는 일반철골구조와 경량철골구조가 있습니다.   \n\n                                                답변_2  \\\n0  면진장치란 건물의 지반에서 발생하는 진동 에너지를 흡수하여 건물을 보호하고, 진동을...   \n1  내진설계에는 내진구조, 제진구조, 면진구조가 있습니다. 내진구조는 건물 구조물이 지...   \n2  철골구조의 장점은 건물의 외벽에는 그다지 하중이 걸리지 않기 때문에 고층 건물의 건...   \n3  철골철근콘크리트 구조는 건축물을 지탱하는 주요 구조물인 철골과 철근, 그리고 콘크리...   \n4  철골구조는 일반철골구조와 경량철골구조가 있습니다. 일반철골구조는 주로 대형 건물이나...   \n\n                                                답변_3  \\\n0  면진장치란 지반으로부터 발생하는 진동 에너지를 흡수하여 건물에 전달되는 진동을 줄여...   \n1  내진설계에는 주로 내진구조, 제진구조, 면진구조의 세 가지 종류가 있습니다. 이들은...   \n2  철골구조의 장점은 건물의 외벽에 하중이 적게 걸리기 때문에 고층 건물의 건축이 용이...   \n3  철골철근 콘크리트 구조는 건축물을 지탱하기 위한 구조물에서 일반적으로 사용되는 방식...   \n4  철골구조는 주로 일반철골구조와 경량철골구조로 나뉘어집니다. 이들은 건축 시스템에 따...   \n\n                                                답변_4  \\\n0  면진장치는 건물의 지반으로부터 오는 진동 에너지를 흡수하여 건물에 전달되는 진동을 ...   \n1  내진설계에는 주로 내진구조, 제진구조, 면진구조가 사용됩니다. 내진구조는 건물 구조...   \n2  철골구조의 장점은 건물의 외벽이 하중이 걸리지 않아 공간 활용이 용이하고, 고층 건...   \n3  철골철근콘크리트 구조는 철골과 철근, 그리고 콘크리트를 함께 사용하여 만들어지는 건...   \n4  철골구조는 주로 일반철골구조와 경량철골구조로 구분됩니다. 이외에도 최근에는 고층 건...   \n\n                                                답변_5  \n0  면진장치는 건물에 오는 지반 진동의 영향을 최대한으로 흡수하여 건물에 전달되는 진동...  \n1  내진 설계에는 다양한 종류가 있지만, 대표적으로 내진구조, 제진구조, 면진구조가 있...  \n2  철골구조의 장점은 건물의 외벽에 하중이 크게 걸리지 않아 고층 건물을 건축할 수 있...  \n3  철골철근 콘크리트 구조는 강철 골조와 강철 철근, 그리고 콘크리트를 함께 사용하여 ...  \n4  철골구조는 일반철골구조와 경량철골구조 두 가지 방식이 주로 사용됩니다. 일반철골구조...  ",
            "text/html": "<div>\n<style scoped>\n    .dataframe tbody tr th:only-of-type {\n        vertical-align: middle;\n    }\n\n    .dataframe tbody tr th {\n        vertical-align: top;\n    }\n\n    .dataframe thead th {\n        text-align: right;\n    }\n</style>\n<table border=\"1\" class=\"dataframe\">\n  <thead>\n    <tr style=\"text-align: right;\">\n      <th></th>\n      <th>id</th>\n      <th>질문_1</th>\n      <th>질문_2</th>\n      <th>category</th>\n      <th>답변_1</th>\n      <th>답변_2</th>\n      <th>답변_3</th>\n      <th>답변_4</th>\n      <th>답변_5</th>\n    </tr>\n  </thead>\n  <tbody>\n    <tr>\n      <th>0</th>\n      <td>TRAIN_000</td>\n      <td>면진장치가 뭐야?</td>\n      <td>면진장치에 사용되는 주요 기술은 무엇인가요?</td>\n      <td>건축구조</td>\n      <td>면진장치란 지반에서 오는 진동 에너지를 흡수하여 건물에 주는 진동을 줄여주는 진동 ...</td>\n      <td>면진장치란 건물의 지반에서 발생하는 진동 에너지를 흡수하여 건물을 보호하고, 진동을...</td>\n      <td>면진장치란 지반으로부터 발생하는 진동 에너지를 흡수하여 건물에 전달되는 진동을 줄여...</td>\n      <td>면진장치는 건물의 지반으로부터 오는 진동 에너지를 흡수하여 건물에 전달되는 진동을 ...</td>\n      <td>면진장치는 건물에 오는 지반 진동의 영향을 최대한으로 흡수하여 건물에 전달되는 진동...</td>\n    </tr>\n    <tr>\n      <th>1</th>\n      <td>TRAIN_001</td>\n      <td>내진설계의 종류 좀 알려줘</td>\n      <td>내진설계에는 어떤 종류가 있는지 자세히 알려주실 수 있나요?</td>\n      <td>건축구조</td>\n      <td>내진 설계의 종류로 내진구조, 제진구조, 면진구조가 있습니다.</td>\n      <td>내진설계에는 내진구조, 제진구조, 면진구조가 있습니다. 내진구조는 건물 구조물이 지...</td>\n      <td>내진설계에는 주로 내진구조, 제진구조, 면진구조의 세 가지 종류가 있습니다. 이들은...</td>\n      <td>내진설계에는 주로 내진구조, 제진구조, 면진구조가 사용됩니다. 내진구조는 건물 구조...</td>\n      <td>내진 설계에는 다양한 종류가 있지만, 대표적으로 내진구조, 제진구조, 면진구조가 있...</td>\n    </tr>\n    <tr>\n      <th>2</th>\n      <td>TRAIN_002</td>\n      <td>철골구조의 장점이 뭐야?</td>\n      <td>철골구조의 장점을 알려줘?</td>\n      <td>건축구조</td>\n      <td>철골구조는 건물의 외벽에는 그다지 하중이 걸리지 않기 때문에 고층 건물의 건축이 가...</td>\n      <td>철골구조의 장점은 건물의 외벽에는 그다지 하중이 걸리지 않기 때문에 고층 건물의 건...</td>\n      <td>철골구조의 장점은 건물의 외벽에 하중이 적게 걸리기 때문에 고층 건물의 건축이 용이...</td>\n      <td>철골구조의 장점은 건물의 외벽이 하중이 걸리지 않아 공간 활용이 용이하고, 고층 건...</td>\n      <td>철골구조의 장점은 건물의 외벽에 하중이 크게 걸리지 않아 고층 건물을 건축할 수 있...</td>\n    </tr>\n    <tr>\n      <th>3</th>\n      <td>TRAIN_003</td>\n      <td>철골철근 콘크리트 구조가 뭐야?</td>\n      <td>철골철근 콘크리트 구조의 장점과 단점에는 무엇이 있을까요?</td>\n      <td>건축구조</td>\n      <td>철근철골콘크리트는 철골과 철근, 그리고 콘크리트를 함께 사용하는 건축 구조입니다. ...</td>\n      <td>철골철근콘크리트 구조는 건축물을 지탱하는 주요 구조물인 철골과 철근, 그리고 콘크리...</td>\n      <td>철골철근 콘크리트 구조는 건축물을 지탱하기 위한 구조물에서 일반적으로 사용되는 방식...</td>\n      <td>철골철근콘크리트 구조는 철골과 철근, 그리고 콘크리트를 함께 사용하여 만들어지는 건...</td>\n      <td>철골철근 콘크리트 구조는 강철 골조와 강철 철근, 그리고 콘크리트를 함께 사용하여 ...</td>\n    </tr>\n    <tr>\n      <th>4</th>\n      <td>TRAIN_004</td>\n      <td>철골구조는 어떤 방식이 있어?</td>\n      <td>철골구조의 다양한 방식이 무엇인가요?</td>\n      <td>건축구조</td>\n      <td>철골구조는 일반철골구조와 경량철골구조가 있습니다.</td>\n      <td>철골구조는 일반철골구조와 경량철골구조가 있습니다. 일반철골구조는 주로 대형 건물이나...</td>\n      <td>철골구조는 주로 일반철골구조와 경량철골구조로 나뉘어집니다. 이들은 건축 시스템에 따...</td>\n      <td>철골구조는 주로 일반철골구조와 경량철골구조로 구분됩니다. 이외에도 최근에는 고층 건...</td>\n      <td>철골구조는 일반철골구조와 경량철골구조 두 가지 방식이 주로 사용됩니다. 일반철골구조...</td>\n    </tr>\n  </tbody>\n</table>\n</div>"
          },
          "metadata": {}
        }
      ]
    },
    {
      "cell_type": "code",
      "source": [
        "train['category'].value_counts()"
      ],
      "metadata": {
        "execution": {
          "iopub.status.busy": "2024-02-27T08:52:47.140963Z",
          "iopub.execute_input": "2024-02-27T08:52:47.141227Z",
          "iopub.status.idle": "2024-02-27T08:52:47.155999Z",
          "shell.execute_reply.started": "2024-02-27T08:52:47.141205Z",
          "shell.execute_reply": "2024-02-27T08:52:47.155058Z"
        },
        "trusted": true,
        "id": "aEqEHmU3MCJW",
        "outputId": "8524b815-96c5-4fcf-fd77-e8e7093cdced"
      },
      "execution_count": null,
      "outputs": [
        {
          "execution_count": 10,
          "output_type": "execute_result",
          "data": {
            "text/plain": "category\n마감재       272\n인테리어      123\n시공        111\n마감하자       60\n건축구조       31\n기타         27\n타 마감하자     20\nName: count, dtype: int64"
          },
          "metadata": {}
        }
      ]
    },
    {
      "cell_type": "code",
      "source": [
        "stopwords_kr = '/kaggle/working/stopwords.txt/stopwords.txt'\n",
        "with open(stopwords_kr, 'r') as file:\n",
        "    read_line = file.read()\n"
      ],
      "metadata": {
        "execution": {
          "iopub.status.busy": "2024-02-27T08:52:47.157091Z",
          "iopub.execute_input": "2024-02-27T08:52:47.157355Z",
          "iopub.status.idle": "2024-02-27T08:52:47.161837Z",
          "shell.execute_reply.started": "2024-02-27T08:52:47.157333Z",
          "shell.execute_reply": "2024-02-27T08:52:47.161041Z"
        },
        "trusted": true,
        "id": "Lk29891fMCJW"
      },
      "execution_count": null,
      "outputs": []
    },
    {
      "cell_type": "code",
      "source": [
        "stop_words = read_line.replace('\\n', ' ')\n",
        "stop_words = set(stop_words.split(' '))"
      ],
      "metadata": {
        "execution": {
          "iopub.status.busy": "2024-02-27T08:52:47.163065Z",
          "iopub.execute_input": "2024-02-27T08:52:47.163372Z",
          "iopub.status.idle": "2024-02-27T08:52:47.170343Z",
          "shell.execute_reply.started": "2024-02-27T08:52:47.163347Z",
          "shell.execute_reply": "2024-02-27T08:52:47.169581Z"
        },
        "trusted": true,
        "id": "3PvbmU9lMCJW"
      },
      "execution_count": null,
      "outputs": []
    },
    {
      "cell_type": "code",
      "source": [
        "#preprocess\n",
        "def remove_spec(text):\n",
        "    #text = re.sub('[^가-힣a-z]', ' ', text)\n",
        "    text = re.sub(r'[^가-힣A-Za-z0-9 ]', '', text)#특수문자 제거\n",
        "    text = re.sub(r'\\s+', ' ', text).strip()#공백 하나\n",
        "    return text\n",
        "#stop words\n",
        "def stopw(text):\n",
        "    tokens = text.split()\n",
        "    tokens = [word for word in tokens if not word in stop_words]\n",
        "    cleaned_text = \" \".join(tokens)\n",
        "    return cleaned_text\n"
      ],
      "metadata": {
        "execution": {
          "iopub.status.busy": "2024-02-27T08:52:47.17153Z",
          "iopub.execute_input": "2024-02-27T08:52:47.172073Z",
          "iopub.status.idle": "2024-02-27T08:52:47.183228Z",
          "shell.execute_reply.started": "2024-02-27T08:52:47.172042Z",
          "shell.execute_reply": "2024-02-27T08:52:47.182336Z"
        },
        "trusted": true,
        "id": "0VIjiqP5MCJW"
      },
      "execution_count": null,
      "outputs": []
    },
    {
      "cell_type": "code",
      "source": [
        "train['질문_1'] = train['질문_1'].apply(remove_spec)\n",
        "train['질문_2'] = train['질문_2'].apply(remove_spec)\n",
        "\n",
        "train['답변_1'] = train['답변_1'].apply(remove_spec)\n",
        "train['답변_2'] = train['답변_2'].apply(remove_spec)\n",
        "train['답변_3'] = train['답변_3'].apply(remove_spec)\n",
        "train['답변_4'] = train['답변_4'].apply(remove_spec)\n",
        "train['답변_5'] = train['답변_5'].apply(remove_spec)\n",
        "\n",
        "train['질문_1'] = train['질문_1'].apply(stopw)\n",
        "train['질문_2'] = train['질문_2'].apply(stopw)\n",
        "\n",
        "train['답변_1'] = train['답변_1'].apply(stopw)\n",
        "train['답변_2'] = train['답변_2'].apply(stopw)\n",
        "train['답변_3'] = train['답변_3'].apply(stopw)\n",
        "train['답변_4'] = train['답변_4'].apply(stopw)\n",
        "train['답변_5'] = train['답변_5'].apply(stopw)"
      ],
      "metadata": {
        "execution": {
          "iopub.status.busy": "2024-02-27T08:52:47.184336Z",
          "iopub.execute_input": "2024-02-27T08:52:47.18461Z",
          "iopub.status.idle": "2024-02-27T08:52:47.3416Z",
          "shell.execute_reply.started": "2024-02-27T08:52:47.184588Z",
          "shell.execute_reply": "2024-02-27T08:52:47.340815Z"
        },
        "trusted": true,
        "id": "Hyocal8BMCJW"
      },
      "execution_count": null,
      "outputs": []
    },
    {
      "cell_type": "code",
      "source": [
        "train.head()"
      ],
      "metadata": {
        "execution": {
          "iopub.status.busy": "2024-02-27T08:52:47.342604Z",
          "iopub.execute_input": "2024-02-27T08:52:47.342904Z",
          "iopub.status.idle": "2024-02-27T08:52:47.356155Z",
          "shell.execute_reply.started": "2024-02-27T08:52:47.34288Z",
          "shell.execute_reply": "2024-02-27T08:52:47.355183Z"
        },
        "trusted": true,
        "id": "4B_fKwJJMCJW",
        "outputId": "5eeb6531-095f-4925-f118-7117f84ffc1a"
      },
      "execution_count": null,
      "outputs": [
        {
          "execution_count": 15,
          "output_type": "execute_result",
          "data": {
            "text/plain": "          id              질문_1                             질문_2 category  \\\n0  TRAIN_000          면진장치가 뭐야          면진장치에 사용되는 주요 기술은 무엇인가요     건축구조   \n1  TRAIN_001      내진설계의 종류 알려줘      내진설계에는 종류가 있는지 자세히 알려주실 있나요     건축구조   \n2  TRAIN_002      철골구조의 장점이 뭐야                    철골구조의 장점을 알려줘     건축구조   \n3  TRAIN_003  철골철근 콘크리트 구조가 뭐야  철골철근 콘크리트 구조의 장점과 단점에는 무엇이 있을까요     건축구조   \n4  TRAIN_004      철골구조는 방식이 있어              철골구조의 다양한 방식이 무엇인가요     건축구조   \n\n                                                답변_1  \\\n0  면진장치란 지반에서 오는 진동 에너지를 흡수하여 건물에 주는 진동을 줄여주는 진동 ...   \n1                    내진 설계의 종류로 내진구조 제진구조 면진구조가 있습니다   \n2  철골구조는 건물의 외벽에는 그다지 하중이 걸리지 고층 건물의 건축이 가능한 것이 장...   \n3  철근철골콘크리트는 철골과 철근 콘크리트를 사용하는 건축 구조입니다 철골은 강하고 가...   \n4                         철골구조는 일반철골구조와 경량철골구조가 있습니다   \n\n                                                답변_2  \\\n0  면진장치란 건물의 지반에서 발생하는 진동 에너지를 흡수하여 건물을 보호하고 진동을 ...   \n1  내진설계에는 내진구조 제진구조 면진구조가 있습니다 내진구조는 건물 구조물이 지진의 ...   \n2  철골구조의 장점은 건물의 외벽에는 그다지 하중이 걸리지 고층 건물의 건축이 가능하다...   \n3  철골철근콘크리트 구조는 건축물을 지탱하는 주요 구조물인 철골과 철근 콘크리트를 사용...   \n4  철골구조는 일반철골구조와 경량철골구조가 있습니다 일반철골구조는 주로 대형 건물이나 ...   \n\n                                                답변_3  \\\n0  면진장치란 지반으로부터 발생하는 진동 에너지를 흡수하여 건물에 전달되는 진동을 줄여...   \n1  내진설계에는 주로 내진구조 제진구조 면진구조의 세 가지 종류가 있습니다 이들은 지진...   \n2  철골구조의 장점은 건물의 외벽에 하중이 적게 걸리기 고층 건물의 건축이 용이하다는 ...   \n3  철골철근 콘크리트 구조는 건축물을 지탱하기 위한 구조물에서 사용되는 방식으로 철골을...   \n4  철골구조는 주로 일반철골구조와 경량철골구조로 나뉘어집니다 이들은 건축 시스템에 선적...   \n\n                                                답변_4  \\\n0  면진장치는 건물의 지반으로부터 오는 진동 에너지를 흡수하여 건물에 전달되는 진동을 ...   \n1  내진설계에는 주로 내진구조 제진구조 면진구조가 사용됩니다 내진구조는 건물 구조물 전...   \n2  철골구조의 장점은 건물의 외벽이 하중이 걸리지 않아 공간 활용이 용이하고 고층 건물...   \n3  철골철근콘크리트 구조는 철골과 철근 콘크리트를 사용하여 만들어지는 건축 구조입니다 ...   \n4  철골구조는 주로 일반철골구조와 경량철골구조로 구분됩니다 최근에는 고층 건물에서 사용...   \n\n                                                답변_5  \n0  면진장치는 건물에 오는 지반 진동의 영향을 최대한으로 흡수하여 건물에 전달되는 진동...  \n1  내진 설계에는 다양한 종류가 있지만 대표적으로 내진구조 제진구조 면진구조가 있습니다...  \n2  철골구조의 장점은 건물의 외벽에 하중이 크게 걸리지 않아 고층 건물을 건축할 있는 ...  \n3  철골철근 콘크리트 구조는 강철 골조와 강철 철근 콘크리트를 사용하여 건축물을 구성하...  \n4  철골구조는 일반철골구조와 경량철골구조 두 가지 방식이 주로 사용됩니다 일반철골구조는...  ",
            "text/html": "<div>\n<style scoped>\n    .dataframe tbody tr th:only-of-type {\n        vertical-align: middle;\n    }\n\n    .dataframe tbody tr th {\n        vertical-align: top;\n    }\n\n    .dataframe thead th {\n        text-align: right;\n    }\n</style>\n<table border=\"1\" class=\"dataframe\">\n  <thead>\n    <tr style=\"text-align: right;\">\n      <th></th>\n      <th>id</th>\n      <th>질문_1</th>\n      <th>질문_2</th>\n      <th>category</th>\n      <th>답변_1</th>\n      <th>답변_2</th>\n      <th>답변_3</th>\n      <th>답변_4</th>\n      <th>답변_5</th>\n    </tr>\n  </thead>\n  <tbody>\n    <tr>\n      <th>0</th>\n      <td>TRAIN_000</td>\n      <td>면진장치가 뭐야</td>\n      <td>면진장치에 사용되는 주요 기술은 무엇인가요</td>\n      <td>건축구조</td>\n      <td>면진장치란 지반에서 오는 진동 에너지를 흡수하여 건물에 주는 진동을 줄여주는 진동 ...</td>\n      <td>면진장치란 건물의 지반에서 발생하는 진동 에너지를 흡수하여 건물을 보호하고 진동을 ...</td>\n      <td>면진장치란 지반으로부터 발생하는 진동 에너지를 흡수하여 건물에 전달되는 진동을 줄여...</td>\n      <td>면진장치는 건물의 지반으로부터 오는 진동 에너지를 흡수하여 건물에 전달되는 진동을 ...</td>\n      <td>면진장치는 건물에 오는 지반 진동의 영향을 최대한으로 흡수하여 건물에 전달되는 진동...</td>\n    </tr>\n    <tr>\n      <th>1</th>\n      <td>TRAIN_001</td>\n      <td>내진설계의 종류 알려줘</td>\n      <td>내진설계에는 종류가 있는지 자세히 알려주실 있나요</td>\n      <td>건축구조</td>\n      <td>내진 설계의 종류로 내진구조 제진구조 면진구조가 있습니다</td>\n      <td>내진설계에는 내진구조 제진구조 면진구조가 있습니다 내진구조는 건물 구조물이 지진의 ...</td>\n      <td>내진설계에는 주로 내진구조 제진구조 면진구조의 세 가지 종류가 있습니다 이들은 지진...</td>\n      <td>내진설계에는 주로 내진구조 제진구조 면진구조가 사용됩니다 내진구조는 건물 구조물 전...</td>\n      <td>내진 설계에는 다양한 종류가 있지만 대표적으로 내진구조 제진구조 면진구조가 있습니다...</td>\n    </tr>\n    <tr>\n      <th>2</th>\n      <td>TRAIN_002</td>\n      <td>철골구조의 장점이 뭐야</td>\n      <td>철골구조의 장점을 알려줘</td>\n      <td>건축구조</td>\n      <td>철골구조는 건물의 외벽에는 그다지 하중이 걸리지 고층 건물의 건축이 가능한 것이 장...</td>\n      <td>철골구조의 장점은 건물의 외벽에는 그다지 하중이 걸리지 고층 건물의 건축이 가능하다...</td>\n      <td>철골구조의 장점은 건물의 외벽에 하중이 적게 걸리기 고층 건물의 건축이 용이하다는 ...</td>\n      <td>철골구조의 장점은 건물의 외벽이 하중이 걸리지 않아 공간 활용이 용이하고 고층 건물...</td>\n      <td>철골구조의 장점은 건물의 외벽에 하중이 크게 걸리지 않아 고층 건물을 건축할 있는 ...</td>\n    </tr>\n    <tr>\n      <th>3</th>\n      <td>TRAIN_003</td>\n      <td>철골철근 콘크리트 구조가 뭐야</td>\n      <td>철골철근 콘크리트 구조의 장점과 단점에는 무엇이 있을까요</td>\n      <td>건축구조</td>\n      <td>철근철골콘크리트는 철골과 철근 콘크리트를 사용하는 건축 구조입니다 철골은 강하고 가...</td>\n      <td>철골철근콘크리트 구조는 건축물을 지탱하는 주요 구조물인 철골과 철근 콘크리트를 사용...</td>\n      <td>철골철근 콘크리트 구조는 건축물을 지탱하기 위한 구조물에서 사용되는 방식으로 철골을...</td>\n      <td>철골철근콘크리트 구조는 철골과 철근 콘크리트를 사용하여 만들어지는 건축 구조입니다 ...</td>\n      <td>철골철근 콘크리트 구조는 강철 골조와 강철 철근 콘크리트를 사용하여 건축물을 구성하...</td>\n    </tr>\n    <tr>\n      <th>4</th>\n      <td>TRAIN_004</td>\n      <td>철골구조는 방식이 있어</td>\n      <td>철골구조의 다양한 방식이 무엇인가요</td>\n      <td>건축구조</td>\n      <td>철골구조는 일반철골구조와 경량철골구조가 있습니다</td>\n      <td>철골구조는 일반철골구조와 경량철골구조가 있습니다 일반철골구조는 주로 대형 건물이나 ...</td>\n      <td>철골구조는 주로 일반철골구조와 경량철골구조로 나뉘어집니다 이들은 건축 시스템에 선적...</td>\n      <td>철골구조는 주로 일반철골구조와 경량철골구조로 구분됩니다 최근에는 고층 건물에서 사용...</td>\n      <td>철골구조는 일반철골구조와 경량철골구조 두 가지 방식이 주로 사용됩니다 일반철골구조는...</td>\n    </tr>\n  </tbody>\n</table>\n</div>"
          },
          "metadata": {}
        }
      ]
    },
    {
      "cell_type": "code",
      "source": [
        "train.isnull().sum()"
      ],
      "metadata": {
        "execution": {
          "iopub.status.busy": "2024-02-27T08:52:47.357434Z",
          "iopub.execute_input": "2024-02-27T08:52:47.357805Z",
          "iopub.status.idle": "2024-02-27T08:52:47.368729Z",
          "shell.execute_reply.started": "2024-02-27T08:52:47.357763Z",
          "shell.execute_reply": "2024-02-27T08:52:47.367731Z"
        },
        "trusted": true,
        "id": "vNfVm9_hMCJX",
        "outputId": "f1d24f96-a1bf-463a-ce23-3d25b982d177"
      },
      "execution_count": null,
      "outputs": [
        {
          "execution_count": 16,
          "output_type": "execute_result",
          "data": {
            "text/plain": "id          0\n질문_1        0\n질문_2        0\ncategory    0\n답변_1        0\n답변_2        0\n답변_3        0\n답변_4        0\n답변_5        0\ndtype: int64"
          },
          "metadata": {}
        }
      ]
    },
    {
      "cell_type": "code",
      "source": [
        "skt_tokenizer = PreTrainedTokenizerFast.from_pretrained('skt/kogpt2-base-v2', eos_token='</s>', pad_token='<pad>')\n",
        "#kakao_tokenizer = AutoTokenizer.from_pretrained('kakaobrain/kogpt', eos_token='[EOS]')\n",
        "polyglot_tokenizer = AutoTokenizer.from_pretrained(\"EleutherAI/polyglot-ko-1.3b\", eos_token='<|endoftext|>')\n",
        "#Klm_tokenizer = transformers.AutoTokenizer.from_pretrained(\"quantumaikr/KoreanLM-1.5b\", eos_token='</s>')\n",
        "#dot_42_tokenizer = transformers.AutoTokenizer.from_pretrained(\"42dot/42dot_LLM-PLM-1.3B\", eos_token=\"<|endoftext|>\")\n",
        "\n",
        "#polyglot_tokenizer = AutoTokenizer.from_pretrained(\"EleutherAI/polyglot-ko-3.8b\", eos_token='<|endoftext|>')\n",
        "#electra_tokenizer = ElectraTokenizer.from_pretrained(\"monologg/koelectra-base-v3-generator\", eos_token='<|endoftext|>')\n"
      ],
      "metadata": {
        "execution": {
          "iopub.status.busy": "2024-02-27T08:52:47.369703Z",
          "iopub.execute_input": "2024-02-27T08:52:47.370012Z",
          "iopub.status.idle": "2024-02-27T08:52:55.69952Z",
          "shell.execute_reply.started": "2024-02-27T08:52:47.369983Z",
          "shell.execute_reply": "2024-02-27T08:52:55.698597Z"
        },
        "trusted": true,
        "id": "aatrH7eZMCJX",
        "outputId": "8513d45e-c5f7-414c-8497-b1e5b7f06b80",
        "colab": {
          "referenced_widgets": [
            "8290167b785d4b41b8af42dd6e006c03",
            "96b5fef676654f53ab354636c0e2b52d",
            "49dece7bd24548f4b7fc580e4015f1ec",
            "5cded41eb0e846ab81288036325baecf",
            "806db11a6daf40d9bbe6230813fef75c",
            "6dda291dc0d04b32b835b414ee795041",
            "ed8defa473f5456b928433cf89389e3e",
            "3a34c8967e5342de9af679df66eedead",
            "e176c2bbecae4262a81f946f2a32a68a",
            "8c312ae8e60949d1bcf0f149bd50b63d",
            "28a30b6ff3de4182ad82828d6a391806",
            "20b196fad9a2420888c06dfcac9a1001",
            "865fd6682ff847b4b33a1a9ecc9271ca",
            "91807a5a1c6c407ba6a4c51695f8dc2c",
            "d08cbf1d13604c928fe0e598a5b1d5d0",
            "c6a310df1d6844e7a4509582f7e896d3",
            "3cbb42c64314412681d9b390132e2305"
          ]
        }
      },
      "execution_count": null,
      "outputs": [
        {
          "output_type": "display_data",
          "data": {
            "text/plain": "tokenizer.json:   0%|          | 0.00/2.83M [00:00<?, ?B/s]",
            "application/vnd.jupyter.widget-view+json": {
              "version_major": 2,
              "version_minor": 0,
              "model_id": "8290167b785d4b41b8af42dd6e006c03"
            }
          },
          "metadata": {}
        },
        {
          "output_type": "display_data",
          "data": {
            "text/plain": "config.json:   0%|          | 0.00/1.00k [00:00<?, ?B/s]",
            "application/vnd.jupyter.widget-view+json": {
              "version_major": 2,
              "version_minor": 0,
              "model_id": "96b5fef676654f53ab354636c0e2b52d"
            }
          },
          "metadata": {}
        },
        {
          "name": "stderr",
          "text": "The tokenizer class you load from this checkpoint is not the same type as the class this function is called from. It may result in unexpected tokenization. \nThe tokenizer class you load from this checkpoint is 'GPT2Tokenizer'. \nThe class this function is called from is 'PreTrainedTokenizerFast'.\n",
          "output_type": "stream"
        },
        {
          "output_type": "display_data",
          "data": {
            "text/plain": "tokenizer_config.json:   0%|          | 0.00/164 [00:00<?, ?B/s]",
            "application/vnd.jupyter.widget-view+json": {
              "version_major": 2,
              "version_minor": 0,
              "model_id": "49dece7bd24548f4b7fc580e4015f1ec"
            }
          },
          "metadata": {}
        },
        {
          "output_type": "display_data",
          "data": {
            "text/plain": "tokenizer.json:   0%|          | 0.00/1.65M [00:00<?, ?B/s]",
            "application/vnd.jupyter.widget-view+json": {
              "version_major": 2,
              "version_minor": 0,
              "model_id": "5cded41eb0e846ab81288036325baecf"
            }
          },
          "metadata": {}
        },
        {
          "output_type": "display_data",
          "data": {
            "text/plain": "special_tokens_map.json:   0%|          | 0.00/185 [00:00<?, ?B/s]",
            "application/vnd.jupyter.widget-view+json": {
              "version_major": 2,
              "version_minor": 0,
              "model_id": "806db11a6daf40d9bbe6230813fef75c"
            }
          },
          "metadata": {}
        },
        {
          "name": "stderr",
          "text": "Special tokens have been added in the vocabulary, make sure the associated word embeddings are fine-tuned or trained.\n",
          "output_type": "stream"
        },
        {
          "output_type": "display_data",
          "data": {
            "text/plain": "tokenizer_config.json:   0%|          | 0.00/780 [00:00<?, ?B/s]",
            "application/vnd.jupyter.widget-view+json": {
              "version_major": 2,
              "version_minor": 0,
              "model_id": "6dda291dc0d04b32b835b414ee795041"
            }
          },
          "metadata": {}
        },
        {
          "output_type": "display_data",
          "data": {
            "text/plain": "vocab.json:   0%|          | 0.00/568k [00:00<?, ?B/s]",
            "application/vnd.jupyter.widget-view+json": {
              "version_major": 2,
              "version_minor": 0,
              "model_id": "ed8defa473f5456b928433cf89389e3e"
            }
          },
          "metadata": {}
        },
        {
          "output_type": "display_data",
          "data": {
            "text/plain": "merges.txt:   0%|          | 0.00/354k [00:00<?, ?B/s]",
            "application/vnd.jupyter.widget-view+json": {
              "version_major": 2,
              "version_minor": 0,
              "model_id": "3a34c8967e5342de9af679df66eedead"
            }
          },
          "metadata": {}
        },
        {
          "output_type": "display_data",
          "data": {
            "text/plain": "tokenizer.json:   0%|          | 0.00/1.47M [00:00<?, ?B/s]",
            "application/vnd.jupyter.widget-view+json": {
              "version_major": 2,
              "version_minor": 0,
              "model_id": "e176c2bbecae4262a81f946f2a32a68a"
            }
          },
          "metadata": {}
        },
        {
          "output_type": "display_data",
          "data": {
            "text/plain": "added_tokens.json:   0%|          | 0.00/29.0 [00:00<?, ?B/s]",
            "application/vnd.jupyter.widget-view+json": {
              "version_major": 2,
              "version_minor": 0,
              "model_id": "8c312ae8e60949d1bcf0f149bd50b63d"
            }
          },
          "metadata": {}
        },
        {
          "output_type": "display_data",
          "data": {
            "text/plain": "special_tokens_map.json:   0%|          | 0.00/216 [00:00<?, ?B/s]",
            "application/vnd.jupyter.widget-view+json": {
              "version_major": 2,
              "version_minor": 0,
              "model_id": "28a30b6ff3de4182ad82828d6a391806"
            }
          },
          "metadata": {}
        },
        {
          "output_type": "display_data",
          "data": {
            "text/plain": "tokenizer_config.json:   0%|          | 0.00/746 [00:00<?, ?B/s]",
            "application/vnd.jupyter.widget-view+json": {
              "version_major": 2,
              "version_minor": 0,
              "model_id": "20b196fad9a2420888c06dfcac9a1001"
            }
          },
          "metadata": {}
        },
        {
          "output_type": "display_data",
          "data": {
            "text/plain": "vocab.json:   0%|          | 0.00/871k [00:00<?, ?B/s]",
            "application/vnd.jupyter.widget-view+json": {
              "version_major": 2,
              "version_minor": 0,
              "model_id": "865fd6682ff847b4b33a1a9ecc9271ca"
            }
          },
          "metadata": {}
        },
        {
          "output_type": "display_data",
          "data": {
            "text/plain": "merges.txt:   0%|          | 0.00/529k [00:00<?, ?B/s]",
            "application/vnd.jupyter.widget-view+json": {
              "version_major": 2,
              "version_minor": 0,
              "model_id": "91807a5a1c6c407ba6a4c51695f8dc2c"
            }
          },
          "metadata": {}
        },
        {
          "output_type": "display_data",
          "data": {
            "text/plain": "tokenizer.json:   0%|          | 0.00/2.26M [00:00<?, ?B/s]",
            "application/vnd.jupyter.widget-view+json": {
              "version_major": 2,
              "version_minor": 0,
              "model_id": "d08cbf1d13604c928fe0e598a5b1d5d0"
            }
          },
          "metadata": {}
        },
        {
          "output_type": "display_data",
          "data": {
            "text/plain": "added_tokens.json:   0%|          | 0.00/1.18k [00:00<?, ?B/s]",
            "application/vnd.jupyter.widget-view+json": {
              "version_major": 2,
              "version_minor": 0,
              "model_id": "c6a310df1d6844e7a4509582f7e896d3"
            }
          },
          "metadata": {}
        },
        {
          "output_type": "display_data",
          "data": {
            "text/plain": "special_tokens_map.json:   0%|          | 0.00/1.23k [00:00<?, ?B/s]",
            "application/vnd.jupyter.widget-view+json": {
              "version_major": 2,
              "version_minor": 0,
              "model_id": "3cbb42c64314412681d9b390132e2305"
            }
          },
          "metadata": {}
        },
        {
          "name": "stderr",
          "text": "Special tokens have been added in the vocabulary, make sure the associated word embeddings are fine-tuned or trained.\n",
          "output_type": "stream"
        }
      ]
    },
    {
      "cell_type": "code",
      "source": [
        "max_length = 128\n",
        "formatted_data = []\n",
        "for _, row in tqdm(train.iterrows()):\n",
        "    for q_col in ['질문_1', '질문_2']:\n",
        "        for a_col in ['답변_1', '답변_2', '답변_3', '답변_4', '답변_5']:\n",
        "            # 질문과 답변 쌍을 </s> token으로 연결\n",
        "            input_text = row[q_col] + polyglot_tokenizer.eos_token + row[a_col]\n",
        "            input_ids = polyglot_tokenizer.encode(input_text, return_tensors='pt', padding='max_length', truncation=True, max_length=max_length)\n",
        "            #input_ids = polyglot_tokenizer.encode(input_text, return_tensors='pt')\n",
        "            formatted_data.append(input_ids)\n",
        "print('Done.')"
      ],
      "metadata": {
        "execution": {
          "iopub.status.busy": "2024-02-27T08:52:55.834933Z",
          "iopub.execute_input": "2024-02-27T08:52:55.835202Z",
          "iopub.status.idle": "2024-02-27T08:52:58.168812Z",
          "shell.execute_reply.started": "2024-02-27T08:52:55.835179Z",
          "shell.execute_reply": "2024-02-27T08:52:58.167959Z"
        },
        "trusted": true,
        "id": "Tiw1Iou9MCJX",
        "outputId": "abe2a636-b2c4-4789-e78e-0b873db1ef64"
      },
      "execution_count": null,
      "outputs": [
        {
          "name": "stderr",
          "text": "644it [00:02, 277.30it/s]",
          "output_type": "stream"
        },
        {
          "name": "stdout",
          "text": "Done.\n",
          "output_type": "stream"
        },
        {
          "name": "stderr",
          "text": "\n",
          "output_type": "stream"
        }
      ]
    },
    {
      "cell_type": "code",
      "source": [
        "formatted_data = torch.cat(formatted_data, dim=0)"
      ],
      "metadata": {
        "execution": {
          "iopub.status.busy": "2024-02-27T08:52:58.20773Z",
          "iopub.execute_input": "2024-02-27T08:52:58.207986Z",
          "iopub.status.idle": "2024-02-27T08:52:58.211892Z",
          "shell.execute_reply.started": "2024-02-27T08:52:58.207964Z",
          "shell.execute_reply": "2024-02-27T08:52:58.210936Z"
        },
        "trusted": true,
        "id": "VqzKFZy6MCJY"
      },
      "execution_count": null,
      "outputs": []
    },
    {
      "cell_type": "code",
      "source": [
        "formatted_data[0]"
      ],
      "metadata": {
        "execution": {
          "iopub.status.busy": "2024-02-27T08:52:58.212863Z",
          "iopub.execute_input": "2024-02-27T08:52:58.213138Z",
          "iopub.status.idle": "2024-02-27T08:52:58.222193Z",
          "shell.execute_reply.started": "2024-02-27T08:52:58.213116Z",
          "shell.execute_reply": "2024-02-27T08:52:58.221174Z"
        },
        "trusted": true,
        "id": "Anf-7RPKMCJY",
        "outputId": "9ad18130-d007-44d6-fa8d-bf7ad3698dbb"
      },
      "execution_count": null,
      "outputs": [
        {
          "execution_count": 25,
          "output_type": "execute_result",
          "data": {
            "text/plain": "tensor([[ 9411,  8265, 37765, 46651,  7991,     1,  9411,  8265, 20725,  7374,\n          9027,  7599,  9023, 14472, 15898, 14820, 33220, 36928, 10764,  9166,\n         11818, 28037, 10090, 15898, 34062, 20725,  8153,  7172,  7182]])"
          },
          "metadata": {}
        }
      ]
    },
    {
      "cell_type": "code",
      "source": [
        "CFG = {\n",
        "    'LR':5e-5,\n",
        "    'EPOCHS':20,\n",
        "    'BATCH_SIZE':8\n",
        "}"
      ],
      "metadata": {
        "execution": {
          "iopub.status.busy": "2024-02-27T08:52:58.223251Z",
          "iopub.execute_input": "2024-02-27T08:52:58.223507Z",
          "iopub.status.idle": "2024-02-27T08:52:58.230766Z",
          "shell.execute_reply.started": "2024-02-27T08:52:58.223485Z",
          "shell.execute_reply": "2024-02-27T08:52:58.229939Z"
        },
        "trusted": true,
        "id": "pv33oqgeMCJY"
      },
      "execution_count": null,
      "outputs": []
    },
    {
      "cell_type": "code",
      "source": [
        "#Using Wandb\n",
        "import wandb\n",
        "import random\n",
        "wandb.login()\n",
        "wandb.init(\n",
        "    project = 'LLM_deaplearning',\n",
        "    config={\n",
        "    \"learning_rate\": CFG['LR'],\n",
        "    \"architecture\": \"LLM_Model\",\n",
        "    \"dataset\": formatted_data,\n",
        "    \"epochs\": CFG['EPOCHS'],\n",
        "    }\n",
        ")"
      ],
      "metadata": {
        "execution": {
          "iopub.status.busy": "2024-02-27T08:52:58.231936Z",
          "iopub.execute_input": "2024-02-27T08:52:58.232231Z",
          "iopub.status.idle": "2024-02-27T08:59:48.512018Z",
          "shell.execute_reply.started": "2024-02-27T08:52:58.232209Z",
          "shell.execute_reply": "2024-02-27T08:59:48.511158Z"
        },
        "trusted": true,
        "id": "AyauSik7MCJY",
        "outputId": "7309e689-f3dc-403c-f0aa-97ad9ab9dc48",
        "colab": {
          "referenced_widgets": [
            "5735c3985242436f8de126250be0f4b6"
          ]
        }
      },
      "execution_count": null,
      "outputs": [
        {
          "name": "stderr",
          "text": "\u001b[34m\u001b[1mwandb\u001b[0m: Logging into wandb.ai. (Learn how to deploy a W&B server locally: https://wandb.me/wandb-server)\n\u001b[34m\u001b[1mwandb\u001b[0m: You can find your API key in your browser here: https://wandb.ai/authorize\n\u001b[34m\u001b[1mwandb\u001b[0m: Paste an API key from your profile and hit enter, or press ctrl+c to quit:",
          "output_type": "stream"
        },
        {
          "output_type": "stream",
          "name": "stdin",
          "text": "  ········································\n"
        },
        {
          "name": "stderr",
          "text": "\u001b[34m\u001b[1mwandb\u001b[0m: Appending key for api.wandb.ai to your netrc file: /root/.netrc\n\u001b[34m\u001b[1mwandb\u001b[0m: Currently logged in as: \u001b[33mttony0321\u001b[0m. Use \u001b[1m`wandb login --relogin`\u001b[0m to force relogin\n",
          "output_type": "stream"
        },
        {
          "output_type": "display_data",
          "data": {
            "text/plain": "VBox(children=(Label(value='Waiting for wandb.init()...\\r'), FloatProgress(value=0.011113116699999006, max=1.0…",
            "application/vnd.jupyter.widget-view+json": {
              "version_major": 2,
              "version_minor": 0,
              "model_id": "5735c3985242436f8de126250be0f4b6"
            }
          },
          "metadata": {}
        },
        {
          "output_type": "display_data",
          "data": {
            "text/plain": "<IPython.core.display.HTML object>",
            "text/html": "wandb version 0.16.3 is available!  To upgrade, please run:\n $ pip install wandb --upgrade"
          },
          "metadata": {}
        },
        {
          "output_type": "display_data",
          "data": {
            "text/plain": "<IPython.core.display.HTML object>",
            "text/html": "Tracking run with wandb version 0.16.2"
          },
          "metadata": {}
        },
        {
          "output_type": "display_data",
          "data": {
            "text/plain": "<IPython.core.display.HTML object>",
            "text/html": "Run data is saved locally in <code>/kaggle/working/wandb/run-20240227_085904-ws2dnlny</code>"
          },
          "metadata": {}
        },
        {
          "output_type": "display_data",
          "data": {
            "text/plain": "<IPython.core.display.HTML object>",
            "text/html": "Syncing run <strong><a href='https://wandb.ai/ttony0321/LLM_deaplearning/runs/ws2dnlny' target=\"_blank\">iconic-snow-18</a></strong> to <a href='https://wandb.ai/ttony0321/LLM_deaplearning' target=\"_blank\">Weights & Biases</a> (<a href='https://wandb.me/run' target=\"_blank\">docs</a>)<br/>"
          },
          "metadata": {}
        },
        {
          "output_type": "display_data",
          "data": {
            "text/plain": "<IPython.core.display.HTML object>",
            "text/html": " View project at <a href='https://wandb.ai/ttony0321/LLM_deaplearning' target=\"_blank\">https://wandb.ai/ttony0321/LLM_deaplearning</a>"
          },
          "metadata": {}
        },
        {
          "output_type": "display_data",
          "data": {
            "text/plain": "<IPython.core.display.HTML object>",
            "text/html": " View run at <a href='https://wandb.ai/ttony0321/LLM_deaplearning/runs/ws2dnlny' target=\"_blank\">https://wandb.ai/ttony0321/LLM_deaplearning/runs/ws2dnlny</a>"
          },
          "metadata": {}
        },
        {
          "execution_count": 27,
          "output_type": "execute_result",
          "data": {
            "text/html": "<button onClick=\"this.nextSibling.style.display='block';this.style.display='none';\">Display W&B run</button><iframe src='https://wandb.ai/ttony0321/LLM_deaplearning/runs/ws2dnlny?jupyter=true' style='border:none;width:100%;height:420px;display:none;'></iframe>",
            "text/plain": "<wandb.sdk.wandb_run.Run at 0x77feacd78040>"
          },
          "metadata": {}
        }
      ]
    },
    {
      "cell_type": "code",
      "source": [
        "# #Normal Way\n",
        "# import transformers\n",
        "# from transformers import AutoModelForCausalLM, AutoTokenizer\n",
        "# from torch.utils.checkpoint import checkpoint\n",
        "# from torch.nn.parallel import DistributedDataParallel as DDP\n",
        "model_id = 'EleutherAI/polyglot-ko-1.3b'\n",
        "\n",
        "model = AutoModelForCausalLM.from_pretrained(\n",
        "    model_id,\n",
        "    #torch_dtype=torch.float16,\n",
        "    #low_cpu_mem_usage=True,\n",
        "    use_cache=False\n",
        "    #device_map={\"\":0},\n",
        ")\n",
        "#model = DDP(model)\n",
        "model.gradient_checkpointing_enable()#GPU 사용량 줄이고 연산을 더하는 코드\n",
        "\n",
        "model.to(device) # 모델을 GPU단으로 이동\n",
        "\n",
        "# # 모델 학습 설정\n",
        "optimizer = AdamW(model.parameters(), lr=CFG['LR'])\n",
        "model.train()\n",
        "\n",
        "num_batches = len(formatted_data) // CFG['BATCH_SIZE']\n",
        "# # 모델 학습\n",
        "for epoch in range(CFG['EPOCHS']):\n",
        "    total_loss = 0\n",
        "    #progress_bar = tqdm(enumerate(formatted_data), total=len(formatted_data))\n",
        "      # 전체 배치 수 계산\n",
        "    progress_bar = tqdm(range(num_batches), desc=f\"Epoch {epoch+1} - Avg Loss: 0.0000\")\n",
        "\n",
        "    #for batch_idx, batch in progress_bar:\n",
        "    for batch_idx in progress_bar:\n",
        "        # 데이터를 GPU단으로 이동\n",
        "        batch = formatted_data[batch_idx * CFG['BATCH_SIZE'] : (batch_idx + 1) * CFG['BATCH_SIZE']]\n",
        "        batch = batch.to(device)\n",
        "        outputs = model(batch, labels=batch)\n",
        "        loss = outputs.loss\n",
        "        loss.backward()\n",
        "        torch.nn.utils.clip_grad_norm_(model.parameters(), max_norm=1.0)\n",
        "        optimizer.step()\n",
        "        optimizer.zero_grad()\n",
        "\n",
        "        total_loss += loss.item()\n",
        "        avg_loss = total_loss / (batch_idx + 1)\n",
        "        #print(f\"Epoch {epoch+1} - Avg Loss: {avg_loss:.4f}\")\n",
        "        # 진행률 표시줄에 평균 손실 업데이트\n",
        "        progress_bar.set_description(f\"Epoch {epoch+1} - Avg Loss: {total_loss / (batch_idx+1):.4f}\")\n",
        "        wandb.log({\"Loss\": loss.item(), \"Avg Loss\": avg_loss})\n",
        "\n",
        "    # 에폭의 평균 손실을 출력\n",
        "    print(f\"Epoch {epoch+1}/{CFG['EPOCHS']}, Average Loss: {total_loss / (batch_idx+1):.4f}\")\n",
        "\n",
        "model.save_pretrained('/kaggle/working/save')\n",
        "skt_tokenizer.save_pretrained('/kaggle/working/save')\n"
      ],
      "metadata": {
        "execution": {
          "iopub.status.busy": "2024-02-27T08:59:48.546142Z",
          "iopub.execute_input": "2024-02-27T08:59:48.547102Z",
          "iopub.status.idle": "2024-02-27T08:59:51.57978Z",
          "shell.execute_reply.started": "2024-02-27T08:59:48.547069Z",
          "shell.execute_reply": "2024-02-27T08:59:51.57896Z"
        },
        "trusted": true,
        "id": "n2Ju7nnyMCJY",
        "outputId": "3d08e1a2-eea6-4e8f-9267-b3fb50aa4274",
        "colab": {
          "referenced_widgets": [
            "67312ae3ac094501a87b4158a4b897b4"
          ]
        }
      },
      "execution_count": null,
      "outputs": [
        {
          "output_type": "display_data",
          "data": {
            "text/plain": "pytorch_model.bin:   0%|          | 0.00/513M [00:00<?, ?B/s]",
            "application/vnd.jupyter.widget-view+json": {
              "version_major": 2,
              "version_minor": 0,
              "model_id": "67312ae3ac094501a87b4158a4b897b4"
            }
          },
          "metadata": {}
        },
        {
          "name": "stderr",
          "text": "/opt/conda/lib/python3.10/site-packages/torch/_utils.py:831: UserWarning: TypedStorage is deprecated. It will be removed in the future and UntypedStorage will be the only storage class. This should only matter to you if you are using storages directly.  To access UntypedStorage directly, use tensor.untyped_storage() instead of tensor.storage()\n  return self.fget.__get__(instance, owner)()\n/opt/conda/lib/python3.10/site-packages/transformers/optimization.py:429: FutureWarning: This implementation of AdamW is deprecated and will be removed in a future version. Use the PyTorch implementation torch.optim.AdamW instead, or set `no_deprecation_warning=True` to disable this warning\n  warnings.warn(\n",
          "output_type": "stream"
        },
        {
          "execution_count": 31,
          "output_type": "execute_result",
          "data": {
            "text/plain": "GPT2LMHeadModel(\n  (transformer): GPT2Model(\n    (wte): Embedding(51200, 768)\n    (wpe): Embedding(1024, 768)\n    (drop): Dropout(p=0.1, inplace=False)\n    (h): ModuleList(\n      (0-11): 12 x GPT2Block(\n        (ln_1): LayerNorm((768,), eps=1e-05, elementwise_affine=True)\n        (attn): GPT2Attention(\n          (c_attn): Conv1D()\n          (c_proj): Conv1D()\n          (attn_dropout): Dropout(p=0.1, inplace=False)\n          (resid_dropout): Dropout(p=0.1, inplace=False)\n        )\n        (ln_2): LayerNorm((768,), eps=1e-05, elementwise_affine=True)\n        (mlp): GPT2MLP(\n          (c_fc): Conv1D()\n          (c_proj): Conv1D()\n          (act): NewGELUActivation()\n          (dropout): Dropout(p=0.1, inplace=False)\n        )\n      )\n    )\n    (ln_f): LayerNorm((768,), eps=1e-05, elementwise_affine=True)\n  )\n  (lm_head): Linear(in_features=768, out_features=51200, bias=False)\n)"
          },
          "metadata": {}
        }
      ]
    },
    {
      "cell_type": "markdown",
      "source": [
        "파일 다운(KAGGLE)"
      ],
      "metadata": {
        "id": "WhBnCWcgVGbu"
      }
    },
    {
      "cell_type": "code",
      "source": [
        "%cd /kaggle/working/save\n",
        "!ls"
      ],
      "metadata": {
        "trusted": true,
        "id": "arH133cKMCJa"
      },
      "execution_count": null,
      "outputs": []
    },
    {
      "cell_type": "code",
      "source": [
        "from IPython.display import HTML\n",
        "def create_download_link(title = \"Download CSV file\", filename = \"data.csv\"):\n",
        "    html = '<a href={filename}>{title}</a>'\n",
        "    html = html.format(title=title,filename=filename)\n",
        "    return HTML(html)\n",
        "\n",
        "# create a link to download the dataframe which was saved with .to_csv method\n",
        "create_download_link(filename='model.safetensors')\n",
        "from IPython.display import FileLink\n",
        "#FileLink(r'model.safetensors')"
      ],
      "metadata": {
        "trusted": true,
        "id": "YIv-vPqdMCJa"
      },
      "execution_count": null,
      "outputs": []
    },
    {
      "cell_type": "code",
      "source": [
        "import zipfile\n",
        "import os\n",
        "import subprocess\n",
        "from IPython.display import FileLink, display\n",
        "def download_file(path, download_file_name):\n",
        "    os.chdir('/kaggle/working/')\n",
        "    zip_name = f\"/kaggle/working/{download_file_name}.zip\"\n",
        "    command = f\"zip {zip_name} {path} -r\"\n",
        "    result = subprocess.run(command, shell=True, capture_output=True, text=True)\n",
        "    if result.returncode != 0:\n",
        "        print(\"Unable to run zip command!\")\n",
        "        print(result.stderr)\n",
        "        return\n",
        "    display(FileLink(f'{download_file_name}.zip'))\n"
      ],
      "metadata": {
        "trusted": true,
        "id": "vwSAZZXXMCJc"
      },
      "execution_count": null,
      "outputs": []
    },
    {
      "cell_type": "code",
      "source": [
        "download_file('/kaggle/working/save/', 'model.safetensors')"
      ],
      "metadata": {
        "trusted": true,
        "id": "W_iHAuzvMCJc"
      },
      "execution_count": null,
      "outputs": []
    },
    {
      "cell_type": "code",
      "source": [
        "# 저장된 Fine-tuned 모델과 토크나이저 불러오기\n",
        "model_dir = \"/kaggle/working/save\"\n",
        "#model = GPT2LMHeadModel.from_pretrained(model_dir)\n",
        "model = AutoModelForCausalLM.from_pretrained(model_dir)\n",
        "model.to(device)\n",
        "tokenizer = PreTrainedTokenizerFast.from_pretrained(model_dir)\n",
        "\n",
        "# Inference를 위한 test.csv 파일 로드\n",
        "test = pd.read_csv('/kaggle/input/llm-datasets/test.csv')\n",
        "\n",
        "# test.csv의 '질문'에 대한 '답변'을 저장할 리스트\n",
        "preds = []\n",
        "\n",
        "# '질문' 컬럼의 각 질문에 대해 답변 생성\n",
        "for test_question in tqdm(test['질문']):\n",
        "    # 입력 텍스트를 토큰화하고 모델 입력 형태로 변환\n",
        "    input_ids = tokenizer.encode(test_question + tokenizer.eos_token, return_tensors='pt')\n",
        "\n",
        "    # 답변 생성\n",
        "    output_sequences = model.generate(\n",
        "        input_ids=input_ids.to(device),\n",
        "        max_length=300,\n",
        "        temperature=0.9,\n",
        "        top_k=1,\n",
        "        top_p=0.9,\n",
        "        repetition_penalty=1.2,\n",
        "        do_sample=True,\n",
        "        num_return_sequences=1\n",
        "    )\n",
        "\n",
        "    # 생성된 텍스트(답변) 저장\n",
        "    for generated_sequence in output_sequences:\n",
        "        full_text = tokenizer.decode(generated_sequence, skip_special_tokens=False)\n",
        "        # 질문과 답변의 사이를 나타내는 eos_token (</s>)를 찾아, 이후부터 출력\n",
        "        answer_start = full_text.find(tokenizer.eos_token) + len(tokenizer.eos_token)\n",
        "        answer_only = full_text[answer_start:].strip()\n",
        "        answer_only = answer_only.replace('\\n', ' ')\n",
        "        preds.append(answer_only)"
      ],
      "metadata": {
        "trusted": true,
        "id": "713AmSXzMCJc"
      },
      "execution_count": null,
      "outputs": []
    },
    {
      "cell_type": "code",
      "source": [
        "!pip install sentence_transformers"
      ],
      "metadata": {
        "trusted": true,
        "id": "K8aw7ZMhMCJc"
      },
      "execution_count": null,
      "outputs": []
    },
    {
      "cell_type": "code",
      "source": [
        "# Test 데이터셋의 모든 질의에 대한 답변으로부터 512 차원의 Embedding Vector 추출\n",
        "# 평가를 위한 Embedding Vector 추출에 활용하는 모델은 'distiluse-base-multilingual-cased-v1' 이므로 반드시 확인해주세요.\n",
        "from sentence_transformers import SentenceTransformer # SentenceTransformer Version 2.2.2\n",
        "\n",
        "# Embedding Vector 추출에 활용할 모델(distiluse-base-multilingual-cased-v1) 불러오기\n",
        "model = SentenceTransformer('distiluse-base-multilingual-cased-v1')\n",
        "\n",
        "# 생성한 모든 응답(답변)으로부터 Embedding Vector 추출\n",
        "pred_embeddings = model.encode(preds)\n",
        "pred_embeddings.shape\n",
        "submit = pd.read_csv('/kaggle/input/llm-datasets/sample_submission.csv')\n",
        "# 제출 양식 파일(sample_submission.csv)을 활용하여 Embedding Vector로 변환한 결과를 삽입\n",
        "submit.iloc[:,1:] = pred_embeddings\n",
        "submit.head()\n",
        "# 리더보드 제출을 위한 csv파일 생성\n",
        "submit.to_csv('/kaggle/working/baseline_submit.csv', index=False)"
      ],
      "metadata": {
        "trusted": true,
        "id": "N5I3M3EHMCJc"
      },
      "execution_count": null,
      "outputs": []
    },
    {
      "cell_type": "code",
      "source": [],
      "metadata": {
        "id": "4ujh6tlFMCJd"
      },
      "execution_count": null,
      "outputs": []
    }
  ]
}